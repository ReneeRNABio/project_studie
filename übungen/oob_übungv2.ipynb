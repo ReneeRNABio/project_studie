{
 "cells": [
  {
   "cell_type": "code",
   "execution_count": null,
   "id": "3a12642b",
   "metadata": {},
   "outputs": [],
   "source": [
    "#Exercise 1\n",
    "\n",
    "class Vehicle:\n",
    "    def __init__(self, max_speed, mileage):\n",
    "        self.max_speed: int = max_speed\n",
    "        self.mileage: int = mileage\n",
    "\n",
    "#steht in der lösung aber nicht in er aufgaben stellung\n",
    "modelX = Vehicle(280, 18)"
   ]
  },
  {
   "cell_type": "code",
   "execution_count": null,
   "id": "bda6ac7b",
   "metadata": {},
   "outputs": [],
   "source": [
    "#Exercise 2\n",
    "\n",
    "class Vehicle:\n",
    "    pass\n"
   ]
  },
  {
   "cell_type": "code",
   "execution_count": null,
   "id": "1ce338fb",
   "metadata": {},
   "outputs": [
    {
     "name": "stdout",
     "output_type": "stream",
     "text": [
      "Vehicle name: School Volvo Speed: 180 Mileage: 12\n"
     ]
    }
   ],
   "source": [
    "#Exercise 3\n",
    "\n",
    "class Vehicle:\n",
    "\n",
    "    def __init__(self, name, max_speed, mileage):\n",
    "        self.name: str = name\n",
    "        self.max_speed: int = max_speed\n",
    "        self.mileage: int = mileage\n",
    "\n",
    "class Bus(Vehicle):\n",
    "    pass\n",
    "\n",
    "Volvo = Bus(\"School Volvo\", 180, 12)\n",
    "\n",
    "print(\"Vehicle name:\", Volvo.name, \"Speed:\", Volvo.max_speed, \"Mileage:\", Volvo.mileage)\n"
   ]
  },
  {
   "cell_type": "code",
   "execution_count": null,
   "id": "396d84d8",
   "metadata": {},
   "outputs": [],
   "source": []
  },
  {
   "cell_type": "code",
   "execution_count": 12,
   "id": "1fb11902",
   "metadata": {},
   "outputs": [
    {
     "name": "stdout",
     "output_type": "stream",
     "text": [
      "The seating capacity of a schul_bus is 50 passengers\n"
     ]
    }
   ],
   "source": [
    "#Exercise 4\n",
    "\n",
    "class Vehicle:\n",
    "    def __init__(self, name, max_speed, mileage):\n",
    "        self.name = name\n",
    "        self.max_speed = max_speed\n",
    "        self.mileage = mileage\n",
    "\n",
    "    def seating_capacity(self, capacity):\n",
    "        return f\"The seating capacity of a {self.name} is {capacity} passengers\"\n",
    "    \n",
    "class Bus(Vehicle):\n",
    "    def seating_capacity(self, capacity = 50):\n",
    "        return super().seating_capacity(capacity)\n",
    "    \n",
    "schul_bus = Bus(\"schul_bus\", 180, 12)                        \n",
    "\n",
    "print(schul_bus.seating_capacity())\n"
   ]
  },
  {
   "cell_type": "code",
   "execution_count": 16,
   "id": "a8ad34cb",
   "metadata": {},
   "outputs": [
    {
     "name": "stdout",
     "output_type": "stream",
     "text": [
      "Color: White Name: School Volvo Speed: 180 Mileage: 12\n",
      "Color: White Name: Audi Q5 Speed: 240 Mileage: 18\n"
     ]
    }
   ],
   "source": [
    "#Exercise 5\n",
    "\n",
    "class Vehicle:\n",
    "    color = \"White\"\n",
    "    def __init__(self, name, max_speed, mileage):\n",
    "        self.name: str = name\n",
    "        self.max_speed: int = max_speed\n",
    "        self.mileage: int = mileage\n",
    "\n",
    "class Bus(Vehicle):\n",
    "    pass\n",
    "\n",
    "class Car(Vehicle):\n",
    "    pass\n",
    "\n",
    "\n",
    "Volvo = Bus(\"School Volvo\", 180, 12)\n",
    "Audi = Vehicle(\"Audi Q5\", 240, 18)\n",
    "\n",
    "print(\"Color:\", Volvo.color, \"Name:\", Volvo.name, \"Speed:\", Volvo.max_speed, \"Mileage:\", Volvo.mileage)\n",
    "print(\"Color:\", Audi.color, \"Name:\", Audi.name, \"Speed:\", Audi.max_speed, \"Mileage:\", Audi.mileage)\n",
    "     "
   ]
  },
  {
   "cell_type": "code",
   "execution_count": 51,
   "id": "7c8aa4e8",
   "metadata": {},
   "outputs": [
    {
     "name": "stdout",
     "output_type": "stream",
     "text": [
      "Total Bus fare is: 5500.0\n",
      "<__main__.Bus object at 0x0000020F943E5A10>\n"
     ]
    }
   ],
   "source": [
    "#Exercise 6\n",
    "\n",
    "class Vehicle:\n",
    "    def __init__(self, name, mileage, capacity):\n",
    "        self.name = name\n",
    "        self.mileage = mileage\n",
    "        self.capacity = capacity\n",
    "\n",
    "    def fare(self):\n",
    "        return self.capacity * 100\n",
    "    \n",
    "class Bus(Vehicle):\n",
    "    def fare(self):\n",
    "        return super().fare() * 1.1             #lösung sieht anders aus?\n",
    "\n",
    "School_bus = Bus(\"School Volvo\", 12, 50)\n",
    "print(\"Total Bus fare is:\", School_bus.fare())\n",
    "print(School_bus)"
   ]
  },
  {
   "cell_type": "code",
   "execution_count": null,
   "id": "02b106b2",
   "metadata": {},
   "outputs": [
    {
     "name": "stdout",
     "output_type": "stream",
     "text": [
      "<class '__main__.Bus'>\n"
     ]
    }
   ],
   "source": [
    "#Exercise 7\n",
    "\n",
    "class Vehicle:\n",
    "    def __init__(self, name, mileage, capacity):\n",
    "        self.name: str = name\n",
    "        self.mileage: int = mileage\n",
    "        self.capacity: int = capacity\n",
    "\n",
    "class Bus(Vehicle):\n",
    "    pass\n",
    "\n",
    "School_bus = Bus(\"School Volvo\", 12, 50)\n",
    "\n",
    "print(type(School_bus))\n"
   ]
  },
  {
   "cell_type": "code",
   "execution_count": null,
   "id": "4e7a5b59",
   "metadata": {},
   "outputs": [
    {
     "name": "stdout",
     "output_type": "stream",
     "text": [
      "True\n"
     ]
    }
   ],
   "source": [
    "#Exercise 8\n",
    "\n",
    "class Vehicle:\n",
    "    def __init__(self, name, mileage, capacity):\n",
    "        self.name = name\n",
    "        self.mileage = mileage\n",
    "        self.capacity = capacity\n",
    "\n",
    "class Bus(Vehicle):\n",
    "    pass\n",
    "\n",
    "School_bus = Bus(\"School Volvo\", 12, 50)\n",
    "\n",
    "print(isinstance(School_bus, Bus))                   #checkt ob das objekt school_bus teil der klasse bus ist oder der übrklasse"
   ]
  },
  {
   "cell_type": "code",
   "execution_count": 35,
   "id": "73039e83",
   "metadata": {},
   "outputs": [
    {
     "name": "stdout",
     "output_type": "stream",
     "text": [
      "True\n",
      "False\n",
      "False\n",
      "True\n"
     ]
    }
   ],
   "source": [
    "#Exercise 9\n",
    "\n",
    "class Animal:\n",
    "    pass\n",
    "\n",
    "class Dog(Animal):\n",
    "    pass\n",
    "\n",
    "class Puppy(Dog):\n",
    "    pass\n",
    "\n",
    "class Cat:\n",
    "    pass\n",
    "\n",
    "print(issubclass(Dog, Animal))              #checkt ob Dog eine subclass von animal ist\n",
    "print(issubclass(Animal, Dog))\n",
    "print(issubclass(Cat, Animal))\n",
    "print(issubclass(Puppy, Animal))                       "
   ]
  },
  {
   "cell_type": "code",
   "execution_count": null,
   "id": "4d924222",
   "metadata": {},
   "outputs": [
    {
     "name": "stdout",
     "output_type": "stream",
     "text": [
      "78.53981633974483\n",
      "49\n",
      "28.274333882308138\n"
     ]
    }
   ],
   "source": [
    "#Exercise 10              # nochmal mit chris duchgehen\n",
    "\n",
    "import math\n",
    "\n",
    "class Shape:\n",
    "    def area(self):\n",
    "        raise NotImplementedError(\"Area method must be implemented by subclasses\")\n",
    "\n",
    "class Circle(Shape):\n",
    "    def __init__(self, radius):\n",
    "        self.radius = radius\n",
    "\n",
    "    def area(self):\n",
    "        return math.pi * self.radius**2 \n",
    "\n",
    "\n",
    "class Square(Shape):\n",
    "    def __init__(self, side):\n",
    "        \n",
    "        self.side = side\n",
    "\n",
    "    def area(self):\n",
    "        return self.side * self.side\n",
    "\n",
    "# Example of polymorphism\n",
    "shapes = [Circle(5), Square(7), Circle(3)]\n",
    "\n",
    "for shape in shapes:\n",
    "    print(shape.area())  # Output: 78.53975, 49, 28.27431"
   ]
  },
  {
   "cell_type": "code",
   "execution_count": null,
   "id": "77be24cd",
   "metadata": {},
   "outputs": [],
   "source": [
    "class CustomIterator:\n",
    "    def __init__(self, items):\n",
    "        self.items = items\n",
    "        self.index = 0\n",
    "\n",
    "    def __iter__(self) -> \"CustomIterator\":\n",
    "        return self\n",
    "\n",
    "    def __next__(self) -> str:\n",
    "        if self.index < len(self.items):\n",
    "            value = self.items[self.index]\n",
    "            self.index += 1\n",
    "            return value\n",
    "\n",
    "        raise StopIteration\n",
    "\n",
    "\n",
    "# Example usage\n",
    "fruits = CustomIterator([\"apple\", \"banana\", \"cherry\"])\n",
    "\n",
    "# value = fruits.__iter__().__next__()\n",
    "\n",
    "# print(value)\n",
    "\n",
    "# value2 = fruits.__next__()\n",
    "\n",
    "# print(value2)\n",
    "\n",
    "for fruit in fruits:\n",
    "    print(fruit)"
   ]
  },
  {
   "cell_type": "code",
   "execution_count": 57,
   "id": "1052390e",
   "metadata": {},
   "outputs": [
    {
     "name": "stdout",
     "output_type": "stream",
     "text": [
      "0\n",
      "1\n",
      "2\n"
     ]
    }
   ],
   "source": [
    "for x in range(3):\n",
    "  print(x)"
   ]
  }
 ],
 "metadata": {
  "kernelspec": {
   "display_name": ".venv",
   "language": "python",
   "name": "python3"
  },
  "language_info": {
   "codemirror_mode": {
    "name": "ipython",
    "version": 3
   },
   "file_extension": ".py",
   "mimetype": "text/x-python",
   "name": "python",
   "nbconvert_exporter": "python",
   "pygments_lexer": "ipython3",
   "version": "3.11.9"
  }
 },
 "nbformat": 4,
 "nbformat_minor": 5
}

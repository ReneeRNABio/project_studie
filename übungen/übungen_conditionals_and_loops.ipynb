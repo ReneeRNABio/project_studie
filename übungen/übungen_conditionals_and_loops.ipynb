{
 "cells": [
  {
   "cell_type": "code",
   "execution_count": null,
   "id": "9d68b2ae",
   "metadata": {},
   "outputs": [
    {
     "name": "stdout",
     "output_type": "stream",
     "text": [
      "DNA sequence: CGGACACACAAAAAGAATGAAGGATTTTGAATCTTTATTGTGTGCGAGTAACTACGAGGAAGATTAAAGA\n",
      "Base pair: T\n",
      "str.count(): 17\n",
      "Our while count: 17\n"
     ]
    }
   ],
   "source": [
    "#Aufgabe 5\n",
    "\n",
    "DNA_seq = 'CGGACACACAAAAAGAATGAAGGATTTTGAATCTTTATTGTGTGCGAGTAACTACGAGGAAGATTAAAGA'\n",
    "print('DNA sequence:', DNA_seq)\n",
    " \n",
    "bp = 'T'\n",
    "print('Base pair:', bp)\n",
    " \n",
    "print('str.count():', DNA_seq.count(bp))\n",
    " \n",
    "count = 0\n",
    "index = 0\n",
    " \n",
    "#while index < len(DNA_seq):\n",
    " #   if bp == DNA_seq[index]:\n",
    "  #      count += 1\n",
    "   # index += 1\n",
    " \n",
    "for base in DNA_seq:\n",
    "    if base == bp:\n",
    "        count +=1\n",
    " \n",
    "\n",
    "print('Our while count:', count)"
   ]
  },
  {
   "cell_type": "code",
   "execution_count": null,
   "id": "3b5b8d49",
   "metadata": {},
   "outputs": [
    {
     "name": "stdout",
     "output_type": "stream",
     "text": [
      "DNA sequence: CGGACACACAAAAAGAATGAAGGATTTTGAATCTTTATTGTGTGCGAGTAACTACGAGGAAGATTAAAGA\n",
      "Base pair: T\n",
      "str.count(): 17\n",
      "Our while count: 17\n"
     ]
    },
    {
     "data": {
      "text/plain": [
       "1747297181.1249232"
      ]
     },
     "execution_count": 6,
     "metadata": {},
     "output_type": "execute_result"
    }
   ],
   "source": [
    "# Aufgabe 6\n",
    "\n",
    "import time\n",
    "\n",
    "time.time()\n",
    "\n",
    "DNA_seq = 'CGGACACACAAAAAGAATGAAGGATTTTGAATCTTTATTGTGTGCGAGTAACTACGAGGAAGATTAAAGA'\n",
    "print('DNA sequence:', DNA_seq)\n",
    " \n",
    "bp = 'T'\n",
    "print('Base pair:', bp)\n",
    " \n",
    "print('str.count():', DNA_seq.count(bp))\n",
    " \n",
    "count = 0\n",
    "index = 0\n",
    " \n",
    "#while index < len(DNA_seq):\n",
    " #   if bp == DNA_seq[index]:\n",
    "  #      count += 1\n",
    "   # index += 1\n",
    " \n",
    "for base in DNA_seq:\n",
    "    if base == bp:\n",
    "        count +=1\n",
    " \n",
    "\n",
    "print('Our while count:', count)\n",
    "\n",
    "time.time()\n"
   ]
  },
  {
   "cell_type": "code",
   "execution_count": 41,
   "id": "b55a75c4",
   "metadata": {},
   "outputs": [
    {
     "name": "stdout",
     "output_type": "stream",
     "text": [
      "DNA sequence: CGGACACACAAAAAGAATGAAGGATTTTGAATCTTTATTGTGTGCGAGTAACTACGAGGAAGATTAAAGA\n",
      "Base pair: T\n",
      "str.count(): 17\n",
      "Our while count: 17\n",
      "3500200in second\n"
     ]
    }
   ],
   "source": [
    "import time\n",
    "\n",
    "start = time.time_ns()\n",
    "\n",
    "DNA_seq = 'CGGACACACAAAAAGAATGAAGGATTTTGAATCTTTATTGTGTGCGAGTAACTACGAGGAAGATTAAAGA'\n",
    "print('DNA sequence:', DNA_seq)\n",
    " \n",
    "bp = 'T'\n",
    "print('Base pair:', bp)\n",
    "\n",
    "print('str.count():', DNA_seq.count(bp))\n",
    "\n",
    "count = 0\n",
    "index = 0\n",
    " \n",
    "while index < len(DNA_seq):\n",
    "    if bp == DNA_seq[index]:\n",
    "        count += 1\n",
    "    index += 1\n",
    " \n",
    "print('Our while count:', count)\n",
    "\n",
    "print(f\"{time.time_ns() - start}in second\")"
   ]
  },
  {
   "cell_type": "code",
   "execution_count": 8,
   "id": "a1dea639",
   "metadata": {},
   "outputs": [
    {
     "name": "stdout",
     "output_type": "stream",
     "text": [
      "AAA\n",
      "AAT\n",
      "AAC\n",
      "AAG\n",
      "ATA\n",
      "ATT\n",
      "ATC\n",
      "ATG\n",
      "ACA\n",
      "ACT\n",
      "ACC\n",
      "ACG\n",
      "AGA\n",
      "AGT\n",
      "AGC\n",
      "AGG\n",
      "TAA\n",
      "TAT\n",
      "TAC\n",
      "TAG\n",
      "TTA\n",
      "TTT\n",
      "TTC\n",
      "TTG\n",
      "TCA\n",
      "TCT\n",
      "TCC\n",
      "TCG\n",
      "TGA\n",
      "TGT\n",
      "TGC\n",
      "TGG\n",
      "CAA\n",
      "CAT\n",
      "CAC\n",
      "CAG\n",
      "CTA\n",
      "CTT\n",
      "CTC\n",
      "CTG\n",
      "CCA\n",
      "CCT\n",
      "CCC\n",
      "CCG\n",
      "CGA\n",
      "CGT\n",
      "CGC\n",
      "CGG\n",
      "GAA\n",
      "GAT\n",
      "GAC\n",
      "GAG\n",
      "GTA\n",
      "GTT\n",
      "GTC\n",
      "GTG\n",
      "GCA\n",
      "GCT\n",
      "GCC\n",
      "GCG\n",
      "GGA\n",
      "GGT\n",
      "GGC\n",
      "GGG\n"
     ]
    }
   ],
   "source": [
    "bases = [\"A\", \"T\", \"C\", \"G\"]\n",
    "\n",
    "for nuc1 in bases:\n",
    "    for nuc2 in bases:\n",
    "        for nuc3 in bases:\n",
    "            codons = nuc1 + nuc2 + nuc3\n",
    "            print(codons)\n"
   ]
  },
  {
   "cell_type": "code",
   "execution_count": null,
   "id": "3a6c6920",
   "metadata": {},
   "outputs": [
    {
     "name": "stdout",
     "output_type": "stream",
     "text": [
      "32\n",
      "23\n",
      "site not found\n",
      "28\n"
     ]
    }
   ],
   "source": [
    "DNAseq = \"GGCGATGCTAGTCGCGTAGTCTAAGCTGTCGAGAATTCGGATGTCATGA\"\n",
    "\n",
    "restriction_enzymes = {\"EcoRI\" : \"GAATTC\", \n",
    "                        \"AluI\" : \"AGCT\", \n",
    "                        \"NotI\" : \"GCGGCCGC\", \n",
    "                        \"TaqI\" : \"TCGA\"}\n",
    "for enzyme in restriction_enzymes:          #for loop holt standard mäßig nur die keys aus dict\n",
    "    site = restriction_enzymes[enzyme]      #holt value aus dem dict \n",
    "    index = DNAseq.find(site)\n",
    "    if index == -1:\n",
    "        print(\"site not found\")\n",
    "    else: \n",
    "        print(index)"
   ]
  },
  {
   "cell_type": "code",
   "execution_count": 69,
   "id": "8cf918da",
   "metadata": {},
   "outputs": [
    {
     "name": "stdout",
     "output_type": "stream",
     "text": [
      "32\n",
      "23\n",
      "site not found\n",
      "28\n"
     ]
    }
   ],
   "source": [
    "DNAseq = \"GGCGATGCTAGTCGCGTAGTCTAAGCTGTCGAGAATTCGGATGTCATGA\"\n",
    "\n",
    "restriction_enzymes = {\"EcoRI\" : \"GAATTC\", \n",
    "                        \"AluI\" : \"AGCT\", \n",
    "                        \"NotI\" : \"GCGGCCGC\", \n",
    "                        \"TaqI\" : \"TCGA\"}\n",
    "for seq in restriction_enzymes.values():          #greift direct auf values zu\n",
    "    index = DNAseq.find(seq)\n",
    "    if index == -1:\n",
    "        print(\"site not found\")\n",
    "    else: \n",
    "        print(index)"
   ]
  },
  {
   "cell_type": "code",
   "execution_count": 72,
   "id": "edeeb91b",
   "metadata": {},
   "outputs": [
    {
     "name": "stdout",
     "output_type": "stream",
     "text": [
      "TGGCATACAGAACCATCTCAATAACCACGCGCGAATAGCCACAACACCTCGGAGGCATCCTTCTCTTTTAGCTCTTAGTACCAAACTTTACTCTAACATCTCCACCACGGCGCTCCACAGCGCGTCCAAGGAAAGACATCCCCCAAGTTATTAGACTTAGTGGCAGGCATATGCCACTTGAATTGGAGGCCTACGTTCTGTGCGCATCCTAAGTGACCCCTAGTCAGCTAGGCTTGCATAACCACCGGTGAATCTCGCTAGTTTCCGTAGTGCATAGATAAAATTTTCTAAGGGGCCTTATCATCCACAACCAATCTGGTGAAGCGATCTGCACACTCCCGTGGGGCTAACCTGTGTTGCCCATAGTGTGCGGCAGGCATTTTCGAAGGAAGACCCGTTGTTAATCGTTGGGAGGTGGTAACACTAAGATTGGGGCGCAGTTTGGTGAGCCAAGCCACTAATAGGGCTCGGAAGAATGCATGTGGGCAGCGGCTAGTGCTGTACCCATGGAATTCGCCTCCGGCACTACACTAGGGGCATAATGCCGTCTATATAAGGGTTGGGGTCATGCAGTCGTTATTAGTATATGAGGGTACCCGTCACCAGAGATGGGTGGATTATACAGCCATCCAACAAGGGCCGTGACTGAAGATCGCCCACGAAGGGTGGAACCTCTGTGACACTTATCTCTGCATACGCGATAGGCCGTAACTAGGATCGCGTCTCCCTGTTTATGCACACTATCAAACGACGGGAATGTTATAGTCAAGAGGTGGTAACATGAAAGGAAGTGCAACGGATCCCCCCCTTACGGATAAAATTAAAAGATACAACATTAAAAATAGCTGGGTTGAGAAAGTGTTTCTGACACTCCTTAAGCTTACGAATAATCTACTACATGTCTCCTGTGAGAAAGCGCCTTTTAGTAGCCGGTCATGACGGGCGAGGAAAAACACCCACATGCACGATGAAGATACATCGTACTAAGCGGAGCTCACGAT\n",
      "27.472527472527474% A\n",
      "23.476523476523475% T\n",
      "24.575424575424577% C\n",
      "24.475524475524477% G\n",
      "1001\n"
     ]
    }
   ],
   "source": [
    "from random import randint\n",
    "#import random\n",
    "#import random as rand    import varianten\n",
    "#rand.randint\n",
    "#random.randint\n",
    "\n",
    "nucleotides = [\"A\", \"T\", \"C\", \"G\"]\n",
    "\n",
    "random_dna_seq: str = \"\".join(nucleotides[randint(0, 3)] for _ in range (1001)) # _ ist place holder wenn keine variable benötigt wird\n",
    "\n",
    "print(random_dna_seq)\n",
    "\n",
    "random_count_a = random_dna_seq.count(\"A\")/1001 * 100 \n",
    "print(f\"{random_count_a}% A\")\n",
    "\n",
    "random_count_t = random_dna_seq.count(\"T\")/1001 * 100 \n",
    "print(f\"{random_count_t}% T\")\n",
    "\n",
    "random_count_c = random_dna_seq.count(\"C\")/1001 * 100 \n",
    "print(f\"{random_count_c}% C\")\n",
    "\n",
    "random_count_g = random_dna_seq.count(\"G\")/1001 * 100 \n",
    "print(f\"{random_count_g}% G\")\n",
    "\n",
    "print(len(random_dna_seq))\n"
   ]
  },
  {
   "cell_type": "code",
   "execution_count": null,
   "id": "ec507030",
   "metadata": {},
   "outputs": [
    {
     "name": "stdout",
     "output_type": "stream",
     "text": [
      "['gggt', 'gcga', 'cgat', 'tcat', 'tgtt', 'ttcg', 'gaca', 'agtg', 'gata', 'ggca', 'acca', 'ctac', 'cggt', 'ggat', 'tgtc', '', '', '', '', '', '', '', '', '', '', '', '', '', '', '', '', '', '', '', '', '', '', '', '', '', '', '', '', '', '', '', '', '', '', '', '', '', '', '', '', '', '', '', '', '']\n"
     ]
    }
   ],
   "source": [
    "DNA_seq = 'gggtgcgacgattcattgttttcggacaagtggataggcaaccactaccggtggattgtc'\n",
    "temp = 0\n",
    "mylist = []\n",
    "for i in range(len(DNA_seq)):\n",
    "    Fragment = DNA_seq[temp:temp+4]\n",
    "    mylist.append(Fragment)\n",
    "    temp = temp +4\n",
    "print(mylist)    \n",
    "#temp wird zu lang loop brichtnicht rechtzeitig ab"
   ]
  },
  {
   "cell_type": "code",
   "execution_count": null,
   "id": "1bf5f8a3",
   "metadata": {},
   "outputs": [
    {
     "name": "stdout",
     "output_type": "stream",
     "text": [
      "['gggt', 'gcga', 'cgat', 'tcat', 'tgtt', 'ttcg', 'gaca', 'agtg', 'gata', 'ggca', 'acca', 'ctac', 'cggt', 'ggat', 'tgtc']\n"
     ]
    }
   ],
   "source": [
    "DNA_seq = 'gggtgcgacgattcattgttttcggacaagtggataggcaaccactaccggtggattgtc'\n",
    "mylist = []\n",
    "for i in range(0,len(DNA_seq),4):\n",
    "    Fragment = DNA_seq[i:i+4]\n",
    "    mylist.append(Fragment)\n",
    "    #print(i)\n",
    "print(mylist)    "
   ]
  },
  {
   "cell_type": "code",
   "execution_count": 98,
   "id": "c0ab7ec3",
   "metadata": {},
   "outputs": [
    {
     "data": {
      "text/plain": [
       "'TATATGGCCTCATTAGCAGGCTGATAAC'"
      ]
     },
     "execution_count": 98,
     "metadata": {},
     "output_type": "execute_result"
    }
   ],
   "source": [
    "import math as m\n",
    "import random\n",
    "\n",
    "def random_function(length:int )->str: \n",
    "    numb_a = numb_t = m.ceil(length *0.29)\n",
    "    numb_g = numb_c = m.ceil(length * 0.21)\n",
    "\n",
    "    list_a = [\"A\"] * numb_a\n",
    "    list_c = [\"C\"] * numb_c\n",
    "    list_g = [\"G\"] * numb_g\n",
    "    list_t = [\"T\"] * numb_t\n",
    "    list_all = list_a + list_c +list_g + list_t\n",
    "    random.shuffle(list_all)\n",
    "    return \"\".join(list_all)\n",
    "random_function(25)\n",
    "\n"
   ]
  },
  {
   "cell_type": "code",
   "execution_count": null,
   "id": "5224a0b9",
   "metadata": {},
   "outputs": [],
   "source": [
    "DNAseq = \"GGCGATGCTAGTCGCGTAGTCTAAGCTGTCGAGAATTCGGATGTCATGA\"\n",
    "\n",
    "nucleotide = [\"A\", \"T\", \"G\" \"C\"]\n"
   ]
  }
 ],
 "metadata": {
  "kernelspec": {
   "display_name": ".venv",
   "language": "python",
   "name": "python3"
  },
  "language_info": {
   "codemirror_mode": {
    "name": "ipython",
    "version": 3
   },
   "file_extension": ".py",
   "mimetype": "text/x-python",
   "name": "python",
   "nbconvert_exporter": "python",
   "pygments_lexer": "ipython3",
   "version": "3.11.9"
  }
 },
 "nbformat": 4,
 "nbformat_minor": 5
}

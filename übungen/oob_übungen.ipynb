{
 "cells": [
  {
   "cell_type": "code",
   "execution_count": null,
   "id": "a17829f0",
   "metadata": {},
   "outputs": [],
   "source": []
  },
  {
   "cell_type": "code",
   "execution_count": 1,
   "id": "f88342a9",
   "metadata": {},
   "outputs": [
    {
     "name": "stdout",
     "output_type": "stream",
     "text": [
      "300 25000\n"
     ]
    }
   ],
   "source": [
    "# Exercise 1\n",
    "\n",
    "class Vehicle:                                                      #Class creation\n",
    "\n",
    "    def __init__(self, max_speed, mileage):                         #methode mit beschreibung und parametern\n",
    "        '''hier könnte eine erklärung stehen'''\n",
    "        self.max_speed: int = max_speed\n",
    "        self.mileage: int = mileage\n",
    "    \n",
    "rsv4 = Vehicle(300, 25000)              \n",
    "\n",
    "print(rsv4.max_speed, rsv4.mileage)\n"
   ]
  },
  {
   "cell_type": "code",
   "execution_count": null,
   "id": "96979366",
   "metadata": {},
   "outputs": [],
   "source": [
    "# Exercise 2\n",
    "\n",
    "class Vehicle:\n",
    "    pass                                #pass is a placeholder -> meaning class is empty but still valid\n",
    "\n"
   ]
  },
  {
   "cell_type": "code",
   "execution_count": 5,
   "id": "c3243bf2",
   "metadata": {},
   "outputs": [
    {
     "name": "stdout",
     "output_type": "stream",
     "text": [
      "Vehicle name: School Volvo Speed: 180 Mileage: 12\n"
     ]
    }
   ],
   "source": [
    "# Exercise 3\n",
    "\n",
    "class Vehicle:\n",
    "\n",
    "    def __init__(self, name, max_speed, mileage):\n",
    "        self.name: str = name\n",
    "        self.max_speed: int = max_speed\n",
    "        self.mileage: int = mileage\n",
    "\n",
    "class Bus(Vehicle):                               #child class ist Bus     vehicle is parent class\n",
    "    pass\n",
    "\n",
    "Volvo = Bus(\"School Volvo\",180, 12)\n",
    "print(\"Vehicle name:\", Volvo.name, \"Speed:\", Volvo.max_speed, \"Mileage:\", Volvo.mileage)"
   ]
  },
  {
   "cell_type": "code",
   "execution_count": 2,
   "id": "2dd631cd",
   "metadata": {},
   "outputs": [
    {
     "ename": "TypeError",
     "evalue": "Bus.seating_capacity() missing 1 required positional argument: 'capacity'",
     "output_type": "error",
     "traceback": [
      "\u001b[31m---------------------------------------------------------------------------\u001b[39m",
      "\u001b[31mTypeError\u001b[39m                                 Traceback (most recent call last)",
      "\u001b[36mCell\u001b[39m\u001b[36m \u001b[39m\u001b[32mIn[2]\u001b[39m\u001b[32m, line 18\u001b[39m\n\u001b[32m     14\u001b[39m         \u001b[38;5;28;01mreturn\u001b[39;00m \u001b[38;5;28msuper\u001b[39m().seating_capacity(capacity)\n\u001b[32m     16\u001b[39m Volvo = Bus(\u001b[33m\"\u001b[39m\u001b[33mSchool Volvo\u001b[39m\u001b[33m\"\u001b[39m,\u001b[32m180\u001b[39m, \u001b[32m12\u001b[39m)\n\u001b[32m---> \u001b[39m\u001b[32m18\u001b[39m \u001b[38;5;28mprint\u001b[39m(\u001b[43mVolvo\u001b[49m\u001b[43m.\u001b[49m\u001b[43mseating_capacity\u001b[49m\u001b[43m(\u001b[49m\u001b[43m)\u001b[49m)                                             \u001b[38;5;66;03m#nochmal durchgehen\u001b[39;00m\n",
      "\u001b[31mTypeError\u001b[39m: Bus.seating_capacity() missing 1 required positional argument: 'capacity'"
     ]
    }
   ],
   "source": [
    "# Exercise 4\n",
    "\n",
    "class Vehicle:\n",
    "    def __init__(self, name, max_speed, mileage):\n",
    "        self.name = name\n",
    "        self.max_speed = max_speed\n",
    "        self.mileage = mileage\n",
    "\n",
    "    def seating_capacity(self, capacity):\n",
    "        return f\"The seating capacity of a {self.name} is {capacity} passengers\"\n",
    "    \n",
    "class Bus(Vehicle):\n",
    "    def seating_capacity(self, capacity):\n",
    "        return super().seating_capacity(capacity)\n",
    "\n",
    "Volvo = Bus(\"School Volvo\",180, 12)\n",
    "\n",
    "print(Volvo.seating_capacity())                                             #nochmal durchgehen"
   ]
  },
  {
   "cell_type": "code",
   "execution_count": 30,
   "id": "bdfe580b",
   "metadata": {},
   "outputs": [
    {
     "name": "stdout",
     "output_type": "stream",
     "text": [
      "Color: White Name: School Volvo Speed: 180 Mileage: 12\n",
      "Color: White Name: Audi Q5 Speed: 240 Mileage: 18\n"
     ]
    }
   ],
   "source": [
    "# Exercise 5\n",
    "\n",
    "class Vehicle:\n",
    "\n",
    "    color = \"White\"                                          #class attribut (gilt generell für die ganze klasse)      \n",
    "\n",
    "    def __init__(self, name, max_speed, mileage):\n",
    "        self.name = name\n",
    "        self.max_speed = max_speed\n",
    "        self.mileage = mileage\n",
    "\n",
    "class Bus(Vehicle):\n",
    "    pass\n",
    "\n",
    "class Car(Vehicle):\n",
    "    pass\n",
    "\n",
    "Volvo = Bus(\"School Volvo\", 180, 12)\n",
    "Audi = Car(\"Audi Q5\", 240, 18)\n",
    "\n",
    "print(\"Color:\", Volvo.color, \"Name:\", Volvo.name, \"Speed:\", Volvo.max_speed, \"Mileage:\", Volvo.mileage)     \n",
    "print(\"Color:\", Audi.color, \"Name:\", Audi.name, \"Speed:\", Audi.max_speed, \"Mileage:\", Audi.mileage) "
   ]
  },
  {
   "cell_type": "code",
   "execution_count": null,
   "id": "b32b7b8d",
   "metadata": {},
   "outputs": [],
   "source": [
    "# Exercise 6\n",
    "\n"
   ]
  }
 ],
 "metadata": {
  "kernelspec": {
   "display_name": "Python 3",
   "language": "python",
   "name": "python3"
  },
  "language_info": {
   "codemirror_mode": {
    "name": "ipython",
    "version": 3
   },
   "file_extension": ".py",
   "mimetype": "text/x-python",
   "name": "python",
   "nbconvert_exporter": "python",
   "pygments_lexer": "ipython3",
   "version": "3.11.9"
  }
 },
 "nbformat": 4,
 "nbformat_minor": 5
}

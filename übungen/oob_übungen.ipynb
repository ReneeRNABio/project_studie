{
 "cells": [
  {
   "cell_type": "code",
   "execution_count": null,
   "id": "a17829f0",
   "metadata": {},
   "outputs": [],
   "source": []
  },
  {
   "cell_type": "code",
   "execution_count": null,
   "id": "f88342a9",
   "metadata": {},
   "outputs": [
    {
     "name": "stdout",
     "output_type": "stream",
     "text": [
      "300 25000\n"
     ]
    }
   ],
   "source": [
    "# Exercise 1\n",
    "\n",
    "class Vehicle:                                                      #Class creation\n",
    "\n",
    "    def __init__(self, max_speed, mileage):                         #methode mit beschreibung und parametern\n",
    "        '''hier könnte eine erklärung stehen'''\n",
    "        self.max_speed: int = max_speed\n",
    "        self.mileage: int = mileage\n",
    "    \n",
    "rsv4 = Vehicle(300, 25000)              \n",
    "\n",
    "print(rsv4.max_speed, rsv4.mileage)\n"
   ]
  },
  {
   "cell_type": "code",
   "execution_count": null,
   "id": "96979366",
   "metadata": {},
   "outputs": [],
   "source": [
    "# Exercise 2\n",
    "\n",
    "class Vehicle:\n",
    "    pass                                #pass is a placeholder -> meaning class is empty but still valid\n",
    "\n"
   ]
  },
  {
   "cell_type": "code",
   "execution_count": null,
   "id": "c3243bf2",
   "metadata": {},
   "outputs": [
    {
     "name": "stdout",
     "output_type": "stream",
     "text": [
      "Vehicle name: School Volvo Speed: 180 Mileage: 12\n"
     ]
    }
   ],
   "source": [
    "# Exercise 3\n",
    "\n",
    "class Vehicle:\n",
    "\n",
    "    def __init__(self, name, max_speed, mileage):\n",
    "        self.name: str = name\n",
    "        self.max_speed: int = max_speed\n",
    "        self.mileage: int = mileage\n",
    "\n",
    "class Bus(Vehicle):                               #child class ist Bus     vehicle is parent class\n",
    "    pass\n",
    "\n",
    "Volvo = Bus(\"School Volvo\",180, 12)\n",
    "print(\"Vehicle name:\", Volvo.name, \"Speed:\", Volvo.max_speed, \"Mileage:\", Volvo.mileage)"
   ]
  },
  {
   "cell_type": "code",
   "execution_count": null,
   "id": "2dd631cd",
   "metadata": {},
   "outputs": [
    {
     "name": "stdout",
     "output_type": "stream",
     "text": [
      "The seating capacity of a School Volvo is 50 passengers\n"
     ]
    }
   ],
   "source": [
    "# Exercise 4\n",
    "\n",
    "class Vehicle:\n",
    "    def __init__(self, name, max_speed, mileage):\n",
    "        self.name = name\n",
    "        self.max_speed = max_speed\n",
    "        self.mileage = mileage\n",
    "\n",
    "    def seating_capacity(self, capacity):\n",
    "        return f\"The seating capacity of a {self.name} is {capacity} passengers\"\n",
    "    \n",
    "class Bus(Vehicle):\n",
    "    def seating_capacity(self, capacity):\n",
    "        return super().seating_capacity(capacity)\n",
    "\n",
    "Volvo = Bus(\"School Volvo\",180, 12)\n",
    "\n",
    "print(Volvo.seating_capacity())                                             #nochmal durchgehen"
   ]
  },
  {
   "cell_type": "code",
   "execution_count": 30,
   "id": "bdfe580b",
   "metadata": {},
   "outputs": [
    {
     "name": "stdout",
     "output_type": "stream",
     "text": [
      "Color: White Name: School Volvo Speed: 180 Mileage: 12\n",
      "Color: White Name: Audi Q5 Speed: 240 Mileage: 18\n"
     ]
    }
   ],
   "source": [
    "# Exercise 5\n",
    "\n",
    "class Vehicle:\n",
    "\n",
    "    color = \"White\"                                          #class attribut (gilt generell für die ganze klasse)      \n",
    "\n",
    "    def __init__(self, name, max_speed, mileage):\n",
    "        self.name = name\n",
    "        self.max_speed = max_speed\n",
    "        self.mileage = mileage\n",
    "\n",
    "class Bus(Vehicle):\n",
    "    pass\n",
    "\n",
    "class Car(Vehicle):\n",
    "    pass\n",
    "\n",
    "Volvo = Bus(\"School Volvo\", 180, 12)\n",
    "Audi = Car(\"Audi Q5\", 240, 18)\n",
    "\n",
    "print(\"Color:\", Volvo.color, \"Name:\", Volvo.name, \"Speed:\", Volvo.max_speed, \"Mileage:\", Volvo.mileage)     \n",
    "print(\"Color:\", Audi.color, \"Name:\", Audi.name, \"Speed:\", Audi.max_speed, \"Mileage:\", Audi.mileage) "
   ]
  },
  {
   "cell_type": "code",
   "execution_count": null,
   "id": "b32b7b8d",
   "metadata": {},
   "outputs": [],
   "source": [
    "# Exercise 6\n",
    "\n"
   ]
  }
 ],
 "metadata": {
  "kernelspec": {
   "display_name": ".venv",
   "language": "python",
   "name": "python3"
  },
  "language_info": {
   "codemirror_mode": {
    "name": "ipython",
    "version": 3
   },
   "file_extension": ".py",
   "mimetype": "text/x-python",
   "name": "python",
   "nbconvert_exporter": "python",
   "pygments_lexer": "ipython3",
   "version": "3.11.9"
  }
 },
 "nbformat": 4,
 "nbformat_minor": 5
}

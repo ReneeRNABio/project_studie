{
 "cells": [
  {
   "cell_type": "code",
   "execution_count": null,
   "id": "9a2828b1",
   "metadata": {},
   "outputs": [
    {
     "name": "stdout",
     "output_type": "stream",
     "text": [
      "rosetta partial genome is written to rosetta_partial.fasta file succesfully\n"
     ]
    }
   ],
   "source": [
    "# write to file video\n",
    "\n",
    "import os.path              #?\n",
    "\n",
    "filename = \"rosetta_partial.fasta\"\n",
    "\n",
    "with open(filename, \"w\") as f:                           #f ist quasi nickname für das file\n",
    "    print(\">JB_007 Rosetta partial genome\", file=f)      #wird benutzt um ins file zu schreiben (wird in seperate zeile geschrieben)\n",
    "    f.write(\"ATG\")                                       #schreibt ebenfalls ins file     \n",
    "    f.write(\"GGT\")\n",
    "    f.write(\"GGC\")\n",
    "    f.write(\"GGA\")\n",
    "    f.write(\"GGG\")\n",
    "    f.write(\"TGA\")\n",
    "    f.write(\"XXXACCATG\")\n",
    "    f.write(\"\\n\")\n",
    "\n",
    "if os.path.isfile(filename):                                            #sollte kommen bevor das schreiben in datei kommt eigentlich\n",
    "    print(\"rosetta partial genome is written to\",filename, \"file succesfully\" )          #?\n",
    "                        #kann mit cat rosetta partial genom in der command zeie gelesen werden\n"
   ]
  },
  {
   "cell_type": "code",
   "execution_count": null,
   "id": "82e150e8",
   "metadata": {},
   "outputs": [
    {
     "name": "stdout",
     "output_type": "stream",
     "text": [
      "\n"
     ]
    }
   ],
   "source": [
    "# Read from file\n",
    "\n",
    "import sys\n",
    "                                                                            # was macht das hier?\n",
    "if len(sys.argv) == 1:\n",
    "   print('Please provide a command line argument as a file name!')\n",
    "   sys.exit()\n",
    "else:\n",
    "   myfile = sys.argv[1]\n",
    " \n",
    "# Open the file for reading, and read the first five lines. Close file.\n",
    "try:\n",
    "    f = open(myfile, 'r')\n",
    "except OSError as oserr:\n",
    "    print('OS error:', oserr)\n",
    "else:\n",
    "    print(f.readline(), end = '')     #reads a single line from the file,  end =    sagt wo er aufhören soll\n",
    "    print(f.readline(), end = '')       #goes to next line and prints it\n",
    "    print(f.readline(), end = '')\n",
    "    print(f.readline(), end = '')\n",
    "    f.close()\n",
    " \n",
    "print()\n",
    " \n",
    "# Read all lines into a list\n",
    "try:\n",
    "    f = open(myfile, 'r')\n",
    "except OSError as oserr:\n",
    "    print('OS error:', oserr)\n",
    "else:\n",
    "    lines = f.readlines()\n",
    "    number_of_lines = len(lines)\n",
    "    print('There are', number_of_lines, 'lines in', myfile)\n",
    "    f.close()\n",
    " \n",
    "print()\n",
    " \n",
    "# The best way to read all the lines of a file\n",
    "try:\n",
    "    with open(myfile, 'r') as f:\n",
    "        for line in f:\n",
    "            print(line, end='')\n",
    "except OSError as oserr:\n",
    "    print('OS error:', oserr)\n"
   ]
  },
  {
   "cell_type": "code",
   "execution_count": null,
   "id": "03682083",
   "metadata": {},
   "outputs": [],
   "source": [
    "# Read FASTA File\n",
    "\n",
    "import sys\n",
    " \n",
    "if len(sys.argv) == 1:\n",
    "    print('Please provide a command line argument as a file name!')\n",
    "    sys.exit()\n",
    "else:\n",
    "    myfile = sys.argv[1]\n",
    " \n",
    "sequence = ''\n",
    " \n",
    "try:\n",
    "    with open(myfile, 'r') as f:\n",
    "        for line in f:\n",
    "            if '>' not in line:                                                 #damit erste zeile nicht abgeändert wird\n",
    "                sequence = sequence + line.strip()                              # entfernte white spaces\n",
    "                #sequence += line.strip()                         # kurzform von dem darüber\n",
    "except OSError as oserr:\n",
    "    print('OS error:', oserr)\n",
    "else:\n",
    "    print(sequence)"
   ]
  },
  {
   "cell_type": "code",
   "execution_count": null,
   "id": "2d184037",
   "metadata": {},
   "outputs": [],
   "source": [
    "# Aufgabe 1\n",
    "\n",
    "import sys\n",
    " \n",
    "if len(sys.argv) == 1:\n",
    "    print('Please provide a command line argument as a file name!')\n",
    "    sys.exit()\n",
    "else:\n",
    "    myfile = sys.argv[1]\n",
    " \n",
    "sequence = ''\n",
    " \n",
    "try:\n",
    "    with open(myfile, 'r') as f:\n",
    "        for line in f:\n",
    "            if '>' not in line:                                                \n",
    "                sequence = sequence + line.strip()                              \n",
    "except OSError as oserr:\n",
    "    print('OS error:', oserr)\n",
    "else:\n",
    "    nucleotide_count = len(sequence)\n",
    "    print(sequence)\n",
    "    print(\"There are\", nucleotide_count, \"nucleotides\")"
   ]
  },
  {
   "cell_type": "code",
   "execution_count": null,
   "id": "516d4a66",
   "metadata": {},
   "outputs": [],
   "source": [
    "# Aufgabe 2\n",
    "\n",
    "import sys\n",
    " \n",
    "if len(sys.argv) == 1:\n",
    "    print('Please provide a command line argument as a file name!')\n",
    "    sys.exit()\n",
    "else:\n",
    "    myfile = sys.argv[1]\n",
    " \n",
    "sequence = ''\n",
    " \n",
    "try:\n",
    "    with open(myfile, 'r') as f:\n",
    "        for line in f:\n",
    "            if '>' not in line:                                                \n",
    "                sequence = sequence + line.strip()                              \n",
    "except OSError as oserr:\n",
    "    print('OS error:', oserr)\n",
    "else:\n",
    "    nucleotide_count = len(sequence)\n",
    "    print(sequence)\n",
    "    print(\"There are\", nucleotide_count, \"nucleotides\")"
   ]
  },
  {
   "cell_type": "code",
   "execution_count": 4,
   "id": "445ef79f",
   "metadata": {},
   "outputs": [
    {
     "ename": "SyntaxError",
     "evalue": "(unicode error) 'unicodeescape' codec can't decode bytes in position 2-3: truncated \\UXXXXXXXX escape (1517477488.py, line 3)",
     "output_type": "error",
     "traceback": [
      "  \u001b[36mCell\u001b[39m\u001b[36m \u001b[39m\u001b[32mIn[4]\u001b[39m\u001b[32m, line 3\u001b[39m\n\u001b[31m    \u001b[39m\u001b[31mfor record in parse('C:\\Users\\Renée\\Desktop\\übungen\\hosetta_partial.fasta', \"fasta\"):\u001b[39m\n                                                                              ^\n\u001b[31mSyntaxError\u001b[39m\u001b[31m:\u001b[39m (unicode error) 'unicodeescape' codec can't decode bytes in position 2-3: truncated \\UXXXXXXXX escape\n"
     ]
    }
   ],
   "source": [
    "from Bio.SeqIO import parse\n",
    "\n",
    "for record in parse('C:\\Users\\Renée\\Desktop\\übungen\\hosetta_partial.fasta', \"fasta\"):\n",
    "    print(record)"
   ]
  }
 ],
 "metadata": {
  "kernelspec": {
   "display_name": ".venv",
   "language": "python",
   "name": "python3"
  },
  "language_info": {
   "codemirror_mode": {
    "name": "ipython",
    "version": 3
   },
   "file_extension": ".py",
   "mimetype": "text/x-python",
   "name": "python",
   "nbconvert_exporter": "python",
   "pygments_lexer": "ipython3",
   "version": "3.11.9"
  }
 },
 "nbformat": 4,
 "nbformat_minor": 5
}

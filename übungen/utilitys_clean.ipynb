{
 "cells": [
  {
   "cell_type": "code",
   "execution_count": 1,
   "id": "0363809e",
   "metadata": {},
   "outputs": [
    {
     "name": "stdout",
     "output_type": "stream",
     "text": [
      "Your sequence number is atg\n",
      "I will compute the number of bps in this region...\n",
      "The number of bps is: 290\n",
      "Bye, Bye\n"
     ]
    }
   ],
   "source": [
    "import sys\n",
    "\n",
    "#Aufgabe 4\n",
    "\n",
    "sequence_number = input('Please type an NCBI sequence number: ')\n",
    "print('Your sequence number is', sequence_number)\n",
    "\n",
    "\n",
    "# Input returns a string\n",
    "starting_index = input('Please type a starting index: ')\n",
    "ending_index = input('Please type an ending index: ')\n",
    "print('I will compute the number of bps in this region...')\n",
    "\n",
    "try:   \n",
    "    # Must cast string inputs to int or float for arithmetical operations\n",
    "    number_of_bps = int(ending_index) - int(starting_index)\n",
    "    print('The number of bps is:', number_of_bps)\n",
    "except:\n",
    "    print(\"Das war wohl nicht erlaubt\")             #war nur zum ausprobieren ob ich dem user eine nachricht in diesem fall priten kann\n",
    "    print(\"Unexpected error:\", sys.exc_info()[0])\n",
    "    sys.exit()                                      #damit das proramm aufhört und nicht einfach nach try except block weiter läuft in der theorie\n",
    "else:\n",
    "    print(\"Bye, Bye\")"
   ]
  },
  {
   "cell_type": "code",
   "execution_count": null,
   "id": "7e1806a5",
   "metadata": {},
   "outputs": [
    {
     "name": "stdout",
     "output_type": "stream",
     "text": [
      "Your sequence number is jhgj\n",
      "I will compute the number of bps in this region...\n",
      "The number of bps is: 480\n",
      "Bye, Bye\n"
     ]
    }
   ],
   "source": [
    "import sys\n",
    "\n",
    "#Aufgabe 4\n",
    "\n",
    "sequence_number = input('Please type an NCBI sequence number: ')\n",
    "print('Your sequence number is', sequence_number)\n",
    "\n",
    "\n",
    "# Input returns a string\n",
    "starting_index = input('Please type a starting index: ')\n",
    "ending_index = input('Please type an ending index: ')\n",
    "print('I will compute the number of bps in this region...')\n",
    "\n",
    "try:   \n",
    "    # Must cast string inputs to int or float for arithmetical operations\n",
    "    number_of_bps = int(ending_index) - int(starting_index)\n",
    "    print('The number of bps is:', number_of_bps)\n",
    "\n",
    "#except ValueError as ve:                            #fängt ValueError ab und sagt was das problem damit ist\n",
    "#    print(ve, \"Nimm ne passende Zahl\")\n",
    "except:\n",
    "    #print(\"Das war wohl nicht erlaubt\")             #war nur zum ausprobieren ob ich dem user eine nachricht in diesem fall priten kann\n",
    "    print(\"Unexpected error:\", sys.exc_info()[0])\n",
    "    sys.exit()                                      #damit das proramm aufhört und nicht einfach nach try except block weiter läuft in der theorie\n",
    "else:\n",
    "    print(\"Bye, Bye\")\n"
   ]
  },
  {
   "cell_type": "code",
   "execution_count": null,
   "id": "66c3c089",
   "metadata": {},
   "outputs": [
    {
     "name": "stdout",
     "output_type": "stream",
     "text": [
      "Your sequence number is kjbfjkba\n",
      "I will compute the number of bps in this region...\n",
      "invalid literal for int() with base 10: '70.00' Nimm was das ich in nen Integer verwandeln kann\n",
      "I will compute the number of bps in this region...\n",
      "The number of bps is: 7993000\n",
      "Bye, Bye\n"
     ]
    }
   ],
   "source": [
    "import sys\n",
    "\n",
    "#Aufgabe 4 mit while loop\n",
    "\n",
    "sequence_number = input('Please type an NCBI sequence number: ')\n",
    "print('Your sequence number is', sequence_number)\n",
    "\n",
    "while True:\n",
    "\n",
    "    # Input returns a string\n",
    "    starting_index = input('Please type a starting index: ')\n",
    "    ending_index = input('Please type an ending index: ')\n",
    "    print('I will compute the number of bps in this region...')\n",
    "\n",
    "    try:   \n",
    "        # Must cast string inputs to int or float for arithmetical operations\n",
    "        number_of_bps = int(ending_index) - int(starting_index)\n",
    "        print('The number of bps is:', number_of_bps)\n",
    "    \n",
    "    except ValueError as ve:                            #fängt ValueError ab und sagt was das problem damit ist\n",
    "        print(ve, \"Nimm was das ich in nen Integer verwandeln kann\")             # wenn ich hallo eingebe springt er auf ValueError wieso nicht zu unexpected \n",
    "    except:\n",
    "        #print(\"Das war wohl nicht erlaubt\")             #war nur zum ausprobieren ob ich dem user eine nachricht in diesem fall priten kann\n",
    "        print(\"Unexpected error:\", sys.exc_info()[0])\n",
    "        sys.exit()                                      #damit das proramm aufhört und nicht einfach nach try except block weiter läuft in der theorie\n",
    "    else:\n",
    "        print(\"Bye, Bye\")\n",
    "        break\n"
   ]
  },
  {
   "cell_type": "code",
   "execution_count": null,
   "id": "d7777f0f",
   "metadata": {},
   "outputs": [
    {
     "name": "stdout",
     "output_type": "stream",
     "text": [
      "<class 'str'>\n",
      "Random DNA sequence (70 bases):\n",
      "CTACCGACCCGCTTCTGATAGATGAGCGACCGATACTAGAGCCACCCCCTAAAGAACCTACATATATGGG\n"
     ]
    }
   ],
   "source": [
    "#Aufgabe 5\n",
    "\n",
    "import random\n",
    "\n",
    "def random_dna_sequence(length: int) -> str:\n",
    "    nucleotides = [\"A\", \"T\", \"G\", \"C\"]\n",
    "    random_thing = list(nucleotides[random.randint(0,3)] for _ in range(length))\n",
    "    print(type(random_thing[60]))\n",
    "    return \"\".join(nucleotides[random.randint(0,3)] for _ in range(length))\n",
    "\n",
    "try: \n",
    "    sequence_length = int(input(\"Enter Sequence length: \"))\n",
    "    random_dna = random_dna_sequence(sequence_length) \n",
    "    print(f\"Random DNA sequence ({sequence_length} bases):\\n{random_dna}\")\n",
    "\n",
    "except ValueError:\n",
    "    print(\"Error: Please enter a valid integer as length.\")\n"
   ]
  },
  {
   "cell_type": "code",
   "execution_count": null,
   "id": "f2ceac7f",
   "metadata": {},
   "outputs": [
    {
     "name": "stdout",
     "output_type": "stream",
     "text": [
      "Random DNA sequence (70 bases):\n",
      "CGTGTGTAGTACGCATGGTAGTCGCGAGTACCCCATGTGCCACCTTAGTGCTCAGACTGACAGAAACCAG\n"
     ]
    }
   ],
   "source": [
    "#Aufgabe 5 for loop\n",
    "import random\n",
    "def random_dna_sequence(length: int) -> str:\n",
    "    nucleotides = [\"A\", \"T\", \"G\", \"C\"]\n",
    "    random_list = []\n",
    "    for value in range(0,length):\n",
    "        random_list.append(nucleotides[random.randint(0,3)])\n",
    "    return \"\".join(random_list)\n",
    "try: \n",
    "    sequence_length = int(input(\"Enter Sequence length: \"))\n",
    "    random_dna = random_dna_sequence(sequence_length) \n",
    "    print(f\"Random DNA sequence ({sequence_length} bases):\\n{random_dna}\")\n",
    "\n",
    "except ValueError:\n",
    "    print(\"Error: Please enter a valid integer as length.\")"
   ]
  },
  {
   "cell_type": "code",
   "execution_count": null,
   "id": "f20b9eaa",
   "metadata": {},
   "outputs": [],
   "source": [
    "# Aufgabe 6\n",
    "\n",
    "def sandhill_crane_population(initial_population: int, growth_rate: float, years: int) -> float:\n",
    "\n",
    "    return initial_population * (1 + growth_rate) ** years\n"
   ]
  },
  {
   "cell_type": "code",
   "execution_count": null,
   "id": "80ef591f",
   "metadata": {},
   "outputs": [
    {
     "name": "stdout",
     "output_type": "stream",
     "text": [
      "Percentages of A, C, G, T: [30.76923076923077, 23.076923076923077, 23.076923076923077, 23.076923076923077]\n"
     ]
    }
   ],
   "source": [
    "# Aufgabe 8\n",
    "\n",
    "def nucleotide_percentages(dna_sequence: str) -> list:\n",
    "    dna_sequence: str = dna_sequence.upper()\n",
    "    nucleotides: list[str] = [\"A\", \"C\", \"G\", \"T\"]\n",
    "    total_length: int = len(dna_sequence)\n",
    "\n",
    "    percentages = [(dna_sequence.count(nucleotide) / total_length) * 100 for nucleotide in nucleotides] #kann man alles nehmen für n da nur variable?\n",
    "    \n",
    "    return percentages\n",
    "\n",
    "sequence_input = input(\"Enter a Sequence: \")\n",
    "percentages = nucleotide_percentages(sequence_input)\n",
    "print(f\"Percentages of A, C, G, T: {percentages}\")\n",
    "#umschreiben in for loop siehe aufgabe 5\n"
   ]
  },
  {
   "cell_type": "code",
   "execution_count": null,
   "id": "c18b7837",
   "metadata": {},
   "outputs": [
    {
     "name": "stdout",
     "output_type": "stream",
     "text": [
      "Percentages of A, C, G, T: [10.0, 20.0, 30.0, 40.0]\n"
     ]
    }
   ],
   "source": [
    "# Aufgabe 8 mit for loop\n",
    "\n",
    "sequence_input = input(\"Enter a Sequence: \")\n",
    "\n",
    "def nucleotide_percentages(dna_sequence: str) -> list:\n",
    "    dna_sequence: str = dna_sequence.upper()\n",
    "    nucleotides: list[str] = [\"A\", \"C\", \"G\", \"T\"]\n",
    "    total_length: int = len(dna_sequence)\n",
    "\n",
    "    percentages_list: list = []\n",
    "    for nucleotide in nucleotides:\n",
    "        nucleotide_count = dna_sequence.count(nucleotide)\n",
    "        percent = (nucleotide_count / total_length) * 100\n",
    "        percentages_list.append(percent)\n",
    "    return percentages_list\n",
    "\n",
    "percentages_list_done = nucleotide_percentages(sequence_input)\n",
    "print(f\"Percentages of A, C, G, T: {percentages_list_done}\")\n",
    "\n"
   ]
  },
  {
   "cell_type": "code",
   "execution_count": null,
   "id": "89711c1e",
   "metadata": {},
   "outputs": [
    {
     "name": "stdout",
     "output_type": "stream",
     "text": [
      "GCAAGCAAAT\n"
     ]
    }
   ],
   "source": [
    "# Aufgae 9\n",
    "\n",
    "def reverse_complement(dna_sequence: str) -> str:\n",
    "\n",
    "    complement: dict[str, str] = {\"A\": \"T\", \"T\": \"A\", \"C\": \"G\", \"G\": \"C\"}\n",
    "    dna_sequence = dna_sequence.upper()\n",
    "    complement_sequence = \"\".join(complement[nucleotide] for nucleotide in dna_sequence)\n",
    "                                            #key\n",
    "    reverse_complement_sequence = complement_sequence[::-1]\n",
    "    return reverse_complement_sequence #complement_sequence[::-1]\n",
    "input_sequence = input(\"Enter a DNA sequence: \") \n",
    "print(reverse_complement(input_sequence))\n",
    "\n",
    "#umschreiben in for loop siehe aufgabe 5 check ob nucleotid existiert     GNAAGCAAAT wenn N soll einfach N ausgegeben werden"
   ]
  },
  {
   "cell_type": "code",
   "execution_count": null,
   "id": "c00c0076",
   "metadata": {},
   "outputs": [
    {
     "name": "stdout",
     "output_type": "stream",
     "text": [
      "NNNTTT\n"
     ]
    }
   ],
   "source": [
    "#Aufgabe 9 mit for loop\n",
    "\n",
    "input_sequence = input(\"Enter a DNA sequence: \") \n",
    "\n",
    "def reverse_complement(input_sequence: str) -> str:     #wieso darf ich input_sequence in der funktion anders nennen und er weiß trotzdem das er den input nehmen muss? syntax?\n",
    "    input_sequence = input_sequence.upper()\n",
    "    complement: dict[str, str] = {\"A\": \"T\", \"T\": \"A\", \"C\": \"G\", \"G\": \"C\", \"N\": \"N\"}\n",
    "    complement_sequence = \"\"\n",
    "\n",
    "    for nucleotide in input_sequence:\n",
    "        complement_sequence += complement[nucleotide]\n",
    "    \n",
    "    reverse_complement_sequence = complement_sequence[::-1]\n",
    "    return reverse_complement_sequence\n",
    "print(reverse_complement(input_sequence))\n"
   ]
  },
  {
   "cell_type": "code",
   "execution_count": null,
   "id": "6836544e",
   "metadata": {},
   "outputs": [
    {
     "name": "stdout",
     "output_type": "stream",
     "text": [
      "The nucleotide 'C' appears 2 times in the sequence.\n"
     ]
    }
   ],
   "source": [
    "# Aufgabe 10\n",
    "def count_nucleotide(dna_sequence: str, nucleotide: str) -> int: #parameter in funktionen\n",
    "    dna_sequence = dna_sequence.upper()\n",
    "    nucleotide = nucleotide.upper()\n",
    "    return dna_sequence.count(nucleotide)\n",
    "\n",
    "sequence_input = input(\"Enter a DNA sequence: \")\n",
    "nucleotide_input = input(\"Enter a nucleotide (A, C, G, T) to count: \")\n",
    "count = count_nucleotide(sequence_input, nucleotide_input)\n",
    "print(f\"The nucleotide '{nucleotide_input}' appears {count} times in the sequence.\")"
   ]
  }
 ],
 "metadata": {
  "kernelspec": {
   "display_name": "Python 3",
   "language": "python",
   "name": "python3"
  },
  "language_info": {
   "codemirror_mode": {
    "name": "ipython",
    "version": 3
   },
   "file_extension": ".py",
   "mimetype": "text/x-python",
   "name": "python",
   "nbconvert_exporter": "python",
   "pygments_lexer": "ipython3",
   "version": "3.11.9"
  }
 },
 "nbformat": 4,
 "nbformat_minor": 5
}

{
 "cells": [
  {
   "cell_type": "code",
   "execution_count": null,
   "id": "8a51acd1",
   "metadata": {},
   "outputs": [],
   "source": [
    "import argparse as arg\n",
    "parser = arg.ArgumentParser()\n",
    "parser.add_argument(\"square\", help=\"display a square of a given number\",type= int)\n",
    "args = parser.parse_args()\n",
    "print(args.square**2) "
   ]
  },
  {
   "cell_type": "code",
   "execution_count": 14,
   "id": "5a83ae23",
   "metadata": {},
   "outputs": [
    {
     "name": "stdout",
     "output_type": "stream",
     "text": [
      "Your sequence number is 91379\n",
      "I will compute the number of bps in this region...\n"
     ]
    },
    {
     "ename": "ValueError",
     "evalue": "invalid literal for int() with base 10: '1,500'",
     "output_type": "error",
     "traceback": [
      "\u001b[31m---------------------------------------------------------------------------\u001b[39m",
      "\u001b[31mValueError\u001b[39m                                Traceback (most recent call last)",
      "\u001b[36mCell\u001b[39m\u001b[36m \u001b[39m\u001b[32mIn[14]\u001b[39m\u001b[32m, line 10\u001b[39m\n\u001b[32m      7\u001b[39m \u001b[38;5;28mprint\u001b[39m(\u001b[33m'\u001b[39m\u001b[33mI will compute the number of bps in this region...\u001b[39m\u001b[33m'\u001b[39m)\n\u001b[32m      9\u001b[39m \u001b[38;5;66;03m# Must cast string inputs to int or float for arithmetical operations\u001b[39;00m\n\u001b[32m---> \u001b[39m\u001b[32m10\u001b[39m number_of_bps = \u001b[38;5;28;43mint\u001b[39;49m\u001b[43m(\u001b[49m\u001b[43mending_index\u001b[49m\u001b[43m)\u001b[49m - \u001b[38;5;28mint\u001b[39m(starting_index)\n\u001b[32m     11\u001b[39m \u001b[38;5;28mprint\u001b[39m(\u001b[33m'\u001b[39m\u001b[33mThe number of bps is:\u001b[39m\u001b[33m'\u001b[39m, number_of_bps)\n",
      "\u001b[31mValueError\u001b[39m: invalid literal for int() with base 10: '1,500'"
     ]
    }
   ],
   "source": [
    "sequence_number = input('Please type an NCBI sequence number: ')\n",
    "print('Your sequence number is', sequence_number)\n",
    " \n",
    "# Input returns a string\n",
    "starting_index = input('Please type a starting index: ')\n",
    "ending_index = input('Please type an ending index: ')\n",
    "print('I will compute the number of bps in this region...')\n",
    " \n",
    "# Must cast string inputs to int or float for arithmetical operations\n",
    "number_of_bps = int(ending_index) - int(starting_index)\n",
    "print('The number of bps is:', number_of_bps)"
   ]
  },
  {
   "cell_type": "code",
   "execution_count": 40,
   "id": "d08ab5dc",
   "metadata": {},
   "outputs": [
    {
     "name": "stdout",
     "output_type": "stream",
     "text": [
      "Your sequence number is atg\n",
      "I will compute the number of bps in this region...\n",
      "The number of bps is: 2100\n"
     ]
    }
   ],
   "source": [
    "import sys\n",
    "\n",
    "#Aufgabe 4\n",
    "\n",
    "sequence_number = input('Please type an NCBI sequence number: ')\n",
    "print('Your sequence number is', sequence_number)\n",
    "\n",
    "\n",
    "# Input returns a string\n",
    "starting_index = input('Please type a starting index: ')\n",
    "ending_index = input('Please type an ending index: ')\n",
    "print('I will compute the number of bps in this region...')\n",
    "\n",
    "try:   \n",
    "    # Must cast string inputs to int or float for arithmetical operations\n",
    "    number_of_bps = int(ending_index) - int(starting_index)\n",
    "    print('The number of bps is:', number_of_bps)\n",
    "except:\n",
    "    print(\"Unexpected error:\", sys.exc_info()[0])\n",
    "    sys.exit()"
   ]
  },
  {
   "cell_type": "code",
   "execution_count": null,
   "id": "e287abba",
   "metadata": {},
   "outputs": [
    {
     "name": "stdout",
     "output_type": "stream",
     "text": [
      "Stop codons: ['TAA', 'TAG', 'TGA']\n"
     ]
    }
   ],
   "source": [
    "import sys\n",
    " \n",
    "#code fertig bearbeitet aus video\n",
    "\n",
    "stop_codons = ['TAA', 'TAG', 'TGA']\n",
    "print('Stop codons:', stop_codons)\n",
    " \n",
    "while True:\n",
    "    try:\n",
    "         index = int(input('Please enter the index of a stop codon to print: '))\n",
    "         print('Your codon is', stop_codons[index])\n",
    "    except ValueError as ve:\n",
    "         print(ve, 'Try again...')\n",
    "    except IndexError:\n",
    "         print('Your index', index, 'is out of range. Try again...')\n",
    "    except:\n",
    "         print('Unexpected error:', sys.exc_info()[0])\n",
    "         sys.exit()\n",
    "    else:\n",
    "         print('Good bye!')\n",
    "         break"
   ]
  },
  {
   "cell_type": "code",
   "execution_count": 54,
   "id": "550ea59b",
   "metadata": {},
   "outputs": [
    {
     "name": "stdout",
     "output_type": "stream",
     "text": [
      "Stop codons: ['TAA', 'TAG', 'TGA']\n",
      "your index 3 is out of range\n",
      "your index 6 is out of range\n",
      "your index 9 is out of range\n",
      "Your codon is TGA\n",
      "Bye Bye\n"
     ]
    }
   ],
   "source": [
    "import sys\n",
    "\n",
    "#video code benutzt zum üben\n",
    "\n",
    "stop_codons = ['TAA', 'TAG', 'TGA']\n",
    "print('Stop codons:', stop_codons)\n",
    "\n",
    "while True:\n",
    "    \n",
    "    try:\n",
    "        index = int(input('Please enter the index of a stop codon to print: '))\n",
    "        print('Your codon is', stop_codons[index])\n",
    "    except ValueError as ve:\n",
    "        print(ve, \"Try again...\")\n",
    "    except IndexError:\n",
    "        print(\"your index\" ,index, \"is out of range\" )\n",
    "    except:\n",
    "        print(\"Unexpected error:\", sys.exc_info()[0])\n",
    "        sys.exit()\n",
    "    else:\n",
    "        print(\"Bye Bye\")\n",
    "        break                       #gibt dem user die chance seine eingabe zu korrigieren ohne das program neu zu starten"
   ]
  },
  {
   "cell_type": "code",
   "execution_count": null,
   "id": "fe004951",
   "metadata": {},
   "outputs": [],
   "source": [
    "import sys\n",
    "import random\n",
    "\n",
    "def random_sequence()\n",
    "\n",
    "#Aufgabe 5\n",
    "\n"
   ]
  },
  {
   "cell_type": "code",
   "execution_count": 70,
   "id": "0091b95d",
   "metadata": {},
   "outputs": [
    {
     "name": "stdout",
     "output_type": "stream",
     "text": [
      "Random DNA sequence (20 bases):\n",
      "TGACACGAAGGTGACTGTGA\n"
     ]
    }
   ],
   "source": [
    "import random\n",
    "\n",
    "def random_dna_sequence(length: int) -> str:\n",
    "    nucleotides = [\"A\", \"T\", \"G\", \"C\"]\n",
    "    return \"\".join(nucleotides[random.randint(0,3)] for _ in range(length))\n",
    "\n",
    "try: \n",
    "    sequence_length = int(input(\"Enter Sequence length: \"))\n",
    "    random_dna = random_dna_sequence(sequence_length) \n",
    "    print(f\"Random DNA sequence ({sequence_length} bases):\\n{random_dna}\")\n",
    "\n",
    "except ValueError:\n",
    "    print(\"Error: Please enter a valid integer as length.\")\n"
   ]
  },
  {
   "cell_type": "code",
   "execution_count": null,
   "id": "bd1bab74",
   "metadata": {},
   "outputs": [],
   "source": [
    "def DNAtoRNA(dna):\n",
    "    transliterate = dna.maketrans(\"tT\",\"uU\")\n",
    "    rna = dna.translate(transliterate)\n",
    "    return rna\n",
    "zika_dna: str = \"AGTTGTTGATCTGTGTGAGTCAGACTGCG\"\n",
    "print(\"Zika DNA Sequence is\", zika_dna)\n",
    "zika_RNA: str = DNAtoRNA(zika_dna)\n",
    "print(\"Zika RNA segment is\", zika_RNA)"
   ]
  }
 ],
 "metadata": {
  "kernelspec": {
   "display_name": ".venv",
   "language": "python",
   "name": "python3"
  },
  "language_info": {
   "codemirror_mode": {
    "name": "ipython",
    "version": 3
   },
   "file_extension": ".py",
   "mimetype": "text/x-python",
   "name": "python",
   "nbconvert_exporter": "python",
   "pygments_lexer": "ipython3",
   "version": "3.11.9"
  }
 },
 "nbformat": 4,
 "nbformat_minor": 5
}
